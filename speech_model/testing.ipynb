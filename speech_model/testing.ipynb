{
 "cells": [
  {
   "cell_type": "code",
   "execution_count": 2,
   "metadata": {},
   "outputs": [
    {
     "name": "stdout",
     "output_type": "stream",
     "text": [
      "/Users/Bianka/Desktop/szkoła/biometria/in-the-wild-verification\n"
     ]
    }
   ],
   "source": [
    "import os\n",
    "import plotly.express as px\n",
    "import plotly.io as pio\n",
    "import pandas as pd\n",
    "\n",
    "if os.path.basename(os.getcwd()) != 'in-the-wild-verification':\n",
    "    os.chdir(os.path.dirname(os.getcwd()))\n",
    "\n",
    "print(os.getcwd())"
   ]
  },
  {
   "cell_type": "code",
   "execution_count": null,
   "metadata": {},
   "outputs": [],
   "source": [
    "def plot_line(x, y, x_label, y_label):\n",
    "    fig = px.line(x = x, y = y,\n",
    "              labels={'x':x_label,\n",
    "                'y': y_label,\n",
    "                },)\n",
    "    fig.update_layout(height=400, width=800, showlegend=False, font=dict(family=\"CMU Serif\",size=14))\n",
    "    config = {\n",
    "    'toImageButtonOptions': {\n",
    "        'format': 'png', # one of png, svg, jpeg, webp\n",
    "        'height': 600, 'width': 900, 'scale':6\n",
    "    }}\n",
    "    \n",
    "    fig.show(config=config)\n",
    "    # pio.write_image(fig, f\"images/{name}.png\", scale=6, width=900, height=500)"
   ]
  },
  {
   "cell_type": "code",
   "execution_count": null,
   "metadata": {},
   "outputs": [],
   "source": [
    "results = pd.read_csv(\"speech_id_checkpoint/Stats\", sep='\\t', index_col=False)\n",
    "\n",
    "results.head()"
   ]
  },
  {
   "cell_type": "code",
   "execution_count": null,
   "metadata": {},
   "outputs": [],
   "source": [
    "tloss = results['Total loss'].tolist()\n",
    "tloss_epoch = [sum(tloss[i:i+6])/6 for i in range(0,len(tloss),6)][:-1]\n",
    "epochs = range(0, int((len(results)-1)/6))\n",
    "\n",
    "plot_line(epochs, tloss_epoch, 'Epoch', 'Total loss')"
   ]
  },
  {
   "cell_type": "code",
   "execution_count": 3,
   "metadata": {},
   "outputs": [],
   "source": [
    "from speech_embedder_net import SpeechEmbedder\n",
    "from speech_model.utils import mfccs_and_spec\n",
    "import torch\n",
    "\n",
    "class SpekerVerifier:\n",
    "    \"\"\"Class for loading the model and computing speech embeddings\"\"\"\n",
    "    def __init__(\n",
    "            self,\n",
    "            model_path: str = 'speech_id_checkpoint/ckpt_epoch_180_batch_id_191.pth'\n",
    "            ) -> None:\n",
    "        self.model = SpeechEmbedder()\n",
    "        self.model.load_state_dict(torch.load(model_path))\n",
    "        self.model.eval()\n",
    "        pass\n",
    "\n",
    "    def compute_embedding(self, audio_input):\n",
    "        _, mel_db, _ = mfccs_and_spec(audio_input, wav_process = True)\n",
    "        mel_db = torch.Tensor(mel_db)\n",
    "        enrollment_batch = torch.reshape(mel_db, (1, mel_db.size(0), mel_db.size(1)))\n",
    "        embedding = self.model(torch.Tensor(enrollment_batch))\n",
    "        return embedding"
   ]
  },
  {
   "cell_type": "code",
   "execution_count": 4,
   "metadata": {},
   "outputs": [],
   "source": [
    "sample_file = 'split_data/train/id10001/00001.wav'\n",
    "sample_file_same = 'split_data/train/id10001/00002.wav'\n",
    "sample_file_diff = 'split_data/train/id10006/00002.wav'\n",
    "\n",
    "model = SpekerVerifier()\n",
    "embedding_org = model.compute_embedding(sample_file)\n",
    "embedding_same = model.compute_embedding(sample_file_same)\n",
    "embedding_diff = model.compute_embedding(sample_file_diff)"
   ]
  },
  {
   "cell_type": "code",
   "execution_count": 5,
   "metadata": {},
   "outputs": [
    {
     "data": {
      "text/plain": [
       "tensor([0.8931], grad_fn=<SumBackward1>)"
      ]
     },
     "execution_count": 5,
     "metadata": {},
     "output_type": "execute_result"
    }
   ],
   "source": [
    "import torch.nn.functional as F\n",
    "\n",
    "F.cosine_similarity(embedding_org, embedding_same)"
   ]
  },
  {
   "cell_type": "code",
   "execution_count": 6,
   "metadata": {},
   "outputs": [
    {
     "data": {
      "text/plain": [
       "tensor([0.7422], grad_fn=<SumBackward1>)"
      ]
     },
     "execution_count": 6,
     "metadata": {},
     "output_type": "execute_result"
    }
   ],
   "source": [
    "F.cosine_similarity(embedding_org, embedding_diff)"
   ]
  }
 ],
 "metadata": {
  "kernelspec": {
   "display_name": "Python 3",
   "language": "python",
   "name": "python3"
  },
  "language_info": {
   "codemirror_mode": {
    "name": "ipython",
    "version": 3
   },
   "file_extension": ".py",
   "mimetype": "text/x-python",
   "name": "python",
   "nbconvert_exporter": "python",
   "pygments_lexer": "ipython3",
   "version": "3.11.6"
  },
  "orig_nbformat": 4
 },
 "nbformat": 4,
 "nbformat_minor": 2
}
