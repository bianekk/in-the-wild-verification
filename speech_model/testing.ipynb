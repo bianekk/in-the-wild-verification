{
 "cells": [
  {
   "cell_type": "code",
   "execution_count": 1,
   "metadata": {},
   "outputs": [
    {
     "name": "stdout",
     "output_type": "stream",
     "text": [
      "/Users/Bianka/Desktop/szkoła/biometria/in-the-wild-verification\n"
     ]
    }
   ],
   "source": [
    "import os\n",
    "import plotly.express as px\n",
    "import plotly.io as pio\n",
    "import pandas as pd\n",
    "\n",
    "if os.path.basename(os.getcwd()) != 'in-the-wild-verification':\n",
    "    os.chdir(os.path.dirname(os.getcwd()))\n",
    "\n",
    "print(os.getcwd())"
   ]
  },
  {
   "cell_type": "code",
   "execution_count": 12,
   "metadata": {},
   "outputs": [],
   "source": [
    "def plot_line(x, y, x_label, y_label):\n",
    "    fig = px.line(x = x, y = y,\n",
    "              labels={'x':x_label,\n",
    "                'y': y_label,\n",
    "                },)\n",
    "    fig.update_layout(height=400, width=800, showlegend=False, font=dict(family=\"CMU Serif\",size=14))\n",
    "    config = {\n",
    "    'toImageButtonOptions': {\n",
    "        'format': 'png', # one of png, svg, jpeg, webp\n",
    "        'height': 600, 'width': 900, 'scale':6\n",
    "    }}\n",
    "    \n",
    "    fig.show(config=config)\n",
    "    pio.write_image(fig, f\"loss.png\", scale=6, width=900, height=500)"
   ]
  },
  {
   "cell_type": "code",
   "execution_count": 9,
   "metadata": {},
   "outputs": [
    {
     "name": "stderr",
     "output_type": "stream",
     "text": [
      "/var/folders/y5/sg4lr5xn7fv5ry3py7wvzj240000gn/T/ipykernel_44682/181831623.py:1: ParserWarning: Length of header or names does not match length of data. This leads to a loss of data with index_col=False.\n",
      "  results = pd.read_csv(\"speech_id_checkpoint/Stats\", sep='\\t', index_col=False)\n"
     ]
    },
    {
     "data": {
      "text/html": [
       "<div>\n",
       "<style scoped>\n",
       "    .dataframe tbody tr th:only-of-type {\n",
       "        vertical-align: middle;\n",
       "    }\n",
       "\n",
       "    .dataframe tbody tr th {\n",
       "        vertical-align: top;\n",
       "    }\n",
       "\n",
       "    .dataframe thead th {\n",
       "        text-align: right;\n",
       "    }\n",
       "</style>\n",
       "<table border=\"1\" class=\"dataframe\">\n",
       "  <thead>\n",
       "    <tr style=\"text-align: right;\">\n",
       "      <th></th>\n",
       "      <th>Date</th>\n",
       "      <th>Epoch</th>\n",
       "      <th>Loss</th>\n",
       "      <th>Total loss</th>\n",
       "    </tr>\n",
       "  </thead>\n",
       "  <tbody>\n",
       "    <tr>\n",
       "      <th>0</th>\n",
       "      <td>Sun Jun  2 00:19:37 2024</td>\n",
       "      <td>Epoch:1[28/191]</td>\n",
       "      <td>Iteration:28</td>\n",
       "      <td>27.1325</td>\n",
       "    </tr>\n",
       "    <tr>\n",
       "      <th>1</th>\n",
       "      <td>Sun Jun  2 00:24:15 2024</td>\n",
       "      <td>Epoch:1[56/191]</td>\n",
       "      <td>Iteration:56</td>\n",
       "      <td>25.7418</td>\n",
       "    </tr>\n",
       "    <tr>\n",
       "      <th>2</th>\n",
       "      <td>Sun Jun  2 00:28:45 2024</td>\n",
       "      <td>Epoch:1[84/191]</td>\n",
       "      <td>Iteration:84</td>\n",
       "      <td>36.0434</td>\n",
       "    </tr>\n",
       "    <tr>\n",
       "      <th>3</th>\n",
       "      <td>Sun Jun  2 00:32:59 2024</td>\n",
       "      <td>Epoch:1[112/191]</td>\n",
       "      <td>Iteration:112</td>\n",
       "      <td>24.8208</td>\n",
       "    </tr>\n",
       "    <tr>\n",
       "      <th>4</th>\n",
       "      <td>Sun Jun  2 00:38:14 2024</td>\n",
       "      <td>Epoch:1[140/191]</td>\n",
       "      <td>Iteration:140</td>\n",
       "      <td>12.2712</td>\n",
       "    </tr>\n",
       "  </tbody>\n",
       "</table>\n",
       "</div>"
      ],
      "text/plain": [
       "                       Date             Epoch           Loss  Total loss\n",
       "0  Sun Jun  2 00:19:37 2024   Epoch:1[28/191]   Iteration:28     27.1325\n",
       "1  Sun Jun  2 00:24:15 2024   Epoch:1[56/191]   Iteration:56     25.7418\n",
       "2  Sun Jun  2 00:28:45 2024   Epoch:1[84/191]   Iteration:84     36.0434\n",
       "3  Sun Jun  2 00:32:59 2024  Epoch:1[112/191]  Iteration:112     24.8208\n",
       "4  Sun Jun  2 00:38:14 2024  Epoch:1[140/191]  Iteration:140     12.2712"
      ]
     },
     "execution_count": 9,
     "metadata": {},
     "output_type": "execute_result"
    }
   ],
   "source": [
    "results = pd.read_csv(\"speech_id_checkpoint/Stats\", sep='\\t', index_col=False)\n",
    "\n",
    "results.head()"
   ]
  },
  {
   "cell_type": "code",
   "execution_count": 13,
   "metadata": {},
   "outputs": [
    {
     "data": {
      "application/vnd.plotly.v1+json": {
       "config": {
        "plotlyServerURL": "https://plot.ly",
        "toImageButtonOptions": {
         "format": "png",
         "height": 600,
         "scale": 6,
         "width": 900
        }
       },
       "data": [
        {
         "hovertemplate": "Epoka=%{x}<br>Całkowity koszt=%{y}<extra></extra>",
         "legendgroup": "",
         "line": {
          "color": "#636efa",
          "dash": "solid"
         },
         "marker": {
          "symbol": "circle"
         },
         "mode": "lines",
         "name": "",
         "orientation": "v",
         "showlegend": false,
         "type": "scatter",
         "x": [
          0,
          1,
          2,
          3,
          4,
          5,
          6,
          7,
          8,
          9,
          10,
          11,
          12,
          13,
          14,
          15,
          16,
          17,
          18,
          19,
          20,
          21,
          22,
          23,
          24,
          25,
          26,
          27,
          28,
          29,
          30,
          31,
          32,
          33,
          34,
          35,
          36,
          37,
          38,
          39,
          40,
          41,
          42,
          43,
          44,
          45,
          46,
          47,
          48,
          49,
          50,
          51,
          52,
          53,
          54,
          55,
          56,
          57,
          58,
          59,
          60,
          61,
          62,
          63,
          64,
          65,
          66,
          67,
          68,
          69,
          70,
          71,
          72,
          73,
          74,
          75,
          76,
          77,
          78,
          79,
          80,
          81,
          82,
          83,
          84,
          85,
          86,
          87,
          88,
          89,
          90,
          91,
          92,
          93,
          94,
          95,
          96,
          97,
          98,
          99,
          100,
          101,
          102,
          103,
          104,
          105,
          106,
          107,
          108,
          109,
          110,
          111,
          112,
          113,
          114,
          115,
          116,
          117,
          118,
          119,
          120,
          121,
          122,
          123,
          124,
          125,
          126,
          127,
          128,
          129,
          130,
          131,
          132,
          133,
          134,
          135,
          136,
          137,
          138,
          139,
          140,
          141,
          142,
          143,
          144,
          145,
          146,
          147,
          148,
          149,
          150,
          151,
          152,
          153,
          154,
          155,
          156,
          157,
          158,
          159,
          160,
          161,
          162,
          163,
          164,
          165,
          166,
          167,
          168,
          169,
          170,
          171,
          172,
          173,
          174,
          175,
          176,
          177,
          178,
          179,
          180,
          181,
          182,
          183,
          184,
          185,
          186,
          187,
          188,
          189,
          190,
          191,
          192,
          193,
          194,
          195,
          196,
          197,
          198,
          199,
          200,
          201,
          202,
          203,
          204,
          205,
          206,
          207,
          208,
          209,
          210,
          211,
          212,
          213,
          214,
          215,
          216,
          217,
          218,
          219,
          220,
          221,
          222,
          223,
          224,
          225,
          226,
          227,
          228,
          229,
          230,
          231,
          232,
          233,
          234,
          235,
          236,
          237,
          238
         ],
         "xaxis": "x",
         "y": [
          24.362283333333334,
          18.261433333333333,
          21.808899999999998,
          18.277033333333332,
          16.595816666666668,
          21.055183333333332,
          15.138066666666667,
          15.424266666666668,
          18.758066666666664,
          19.233900000000002,
          16.99045,
          20.57726666666667,
          11.303366666666667,
          19.709216666666666,
          12.9144,
          21.365616666666668,
          14.114966666666668,
          12.984566666666666,
          17.469933333333334,
          19.366066666666665,
          16.88885,
          13.102633333333335,
          11.946100000000001,
          16.751099999999997,
          20.119799999999998,
          18.928166666666666,
          12.047850000000002,
          20.284033333333337,
          12.893383333333333,
          13.584916666666667,
          18.3514,
          20.406616666666668,
          17.311433333333333,
          19.99705,
          16.028133333333333,
          12.660600000000002,
          9.944749999999999,
          17.846616666666666,
          13.440166666666668,
          11.2909,
          19.79895,
          15.56265,
          16.039083333333334,
          11.270266666666666,
          12.042683333333335,
          11.899583333333334,
          13.546616666666667,
          11.123716666666667,
          14.206550000000002,
          10.496566666666666,
          8.713766666666666,
          7.5886000000000005,
          10.210416666666667,
          16.287566666666667,
          11.061983333333332,
          13.356533333333333,
          11.953483333333333,
          7.064733333333333,
          10.7836,
          10.390566666666667,
          18.2782,
          13.6492,
          10.317333333333334,
          6.35955,
          4.490566666666667,
          8.72325,
          8.366316666666666,
          6.883933333333334,
          10.322283333333333,
          12.976883333333333,
          10.780466666666667,
          6.3753166666666665,
          15.051783333333335,
          7.210383333333333,
          3.8869333333333334,
          6.569883333333333,
          9.662183333333333,
          11.445149999999998,
          10.767016666666665,
          14.225700000000002,
          10.519883333333334,
          7.654283333333333,
          10.24145,
          13.249449999999998,
          12.827599999999999,
          9.372616666666667,
          10.781966666666667,
          10.798166666666665,
          9.828249999999999,
          9.28745,
          6.320566666666667,
          14.11175,
          7.404850000000001,
          8.096383333333334,
          10.623183333333335,
          14.882666666666665,
          13.617583333333336,
          7.223833333333334,
          5.949233333333333,
          6.489933333333333,
          7.972933333333334,
          12.122033333333334,
          10.047916666666666,
          6.0604499999999994,
          5.302983333333334,
          10.54245,
          10.9285,
          5.640916666666667,
          8.648299999999999,
          8.780183333333333,
          8.519483333333332,
          5.910683333333334,
          5.996316666666666,
          11.953616666666667,
          11.939316666666668,
          12.320333333333336,
          13.59155,
          7.63185,
          7.217616666666667,
          9.208416666666666,
          10.16495,
          12.2111,
          12.434783333333334,
          8.549183333333334,
          5.90025,
          8.036066666666665,
          5.186000000000001,
          7.925933333333333,
          8.904916666666667,
          7.810266666666667,
          4.483416666666667,
          7.778666666666666,
          8.502983333333335,
          11.601316666666667,
          6.372883333333333,
          9.613,
          9.522116666666667,
          6.771833333333333,
          11.753466666666666,
          7.274183333333333,
          6.44415,
          3.2691500000000002,
          8.236016666666666,
          10.8373,
          5.368200000000001,
          5.167833333333333,
          6.256116666666666,
          5.153983333333334,
          9.597883333333334,
          6.251666666666666,
          4.46195,
          10.7074,
          12.6746,
          5.795649999999999,
          4.999383333333333,
          9.6907,
          8.500483333333333,
          7.097466666666667,
          4.902683333333333,
          5.468933333333332,
          6.590366666666667,
          6.2455,
          2.936166666666667,
          5.975533333333334,
          4.4193,
          5.837066666666666,
          8.07295,
          8.459816666666667,
          6.9675166666666675,
          10.841883333333334,
          5.519783333333333,
          7.768183333333333,
          13.275666666666666,
          4.895033333333333,
          5.311483333333333,
          8.933183333333334,
          8.309816666666666,
          6.480666666666667,
          5.961799999999999,
          8.4915,
          7.50885,
          7.758033333333333,
          8.060416666666667,
          4.4243500000000004,
          4.91415,
          10.1053,
          8.476166666666668,
          3.4117833333333336,
          11.3262,
          7.21685,
          7.965283333333333,
          9.237283333333334,
          8.302349999999999,
          9.579416666666665,
          3.287083333333333,
          6.214616666666667,
          2.2118333333333333,
          5.832083333333332,
          8.6347,
          5.544216666666666,
          8.049,
          7.413733333333333,
          9.64595,
          6.98405,
          6.286700000000001,
          5.427816666666666,
          5.910483333333334,
          5.033716666666667,
          6.98755,
          3.437616666666667,
          11.5269,
          8.110666666666667,
          7.321383333333334,
          6.772916666666666,
          5.866700000000001,
          4.601033333333333,
          7.494416666666667,
          6.010933333333334,
          3.9028666666666663,
          6.3741666666666665,
          5.82095,
          3.3908333333333336,
          5.649266666666667,
          4.437583333333333,
          3.4841666666666664,
          5.476766666666666,
          7.377416666666666,
          7.032183333333335,
          4.89985,
          5.7067000000000005,
          4.1408499999999995,
          3.74135,
          8.298399999999999,
          5.906299999999999,
          7.538383333333335,
          6.18315,
          3.47725,
          5.089416666666667,
          5.7572833333333335
         ],
         "yaxis": "y"
        }
       ],
       "layout": {
        "font": {
         "family": "CMU Serif",
         "size": 14
        },
        "height": 400,
        "legend": {
         "tracegroupgap": 0
        },
        "margin": {
         "t": 60
        },
        "showlegend": false,
        "template": {
         "data": {
          "bar": [
           {
            "error_x": {
             "color": "#2a3f5f"
            },
            "error_y": {
             "color": "#2a3f5f"
            },
            "marker": {
             "line": {
              "color": "#E5ECF6",
              "width": 0.5
             },
             "pattern": {
              "fillmode": "overlay",
              "size": 10,
              "solidity": 0.2
             }
            },
            "type": "bar"
           }
          ],
          "barpolar": [
           {
            "marker": {
             "line": {
              "color": "#E5ECF6",
              "width": 0.5
             },
             "pattern": {
              "fillmode": "overlay",
              "size": 10,
              "solidity": 0.2
             }
            },
            "type": "barpolar"
           }
          ],
          "carpet": [
           {
            "aaxis": {
             "endlinecolor": "#2a3f5f",
             "gridcolor": "white",
             "linecolor": "white",
             "minorgridcolor": "white",
             "startlinecolor": "#2a3f5f"
            },
            "baxis": {
             "endlinecolor": "#2a3f5f",
             "gridcolor": "white",
             "linecolor": "white",
             "minorgridcolor": "white",
             "startlinecolor": "#2a3f5f"
            },
            "type": "carpet"
           }
          ],
          "choropleth": [
           {
            "colorbar": {
             "outlinewidth": 0,
             "ticks": ""
            },
            "type": "choropleth"
           }
          ],
          "contour": [
           {
            "colorbar": {
             "outlinewidth": 0,
             "ticks": ""
            },
            "colorscale": [
             [
              0,
              "#0d0887"
             ],
             [
              0.1111111111111111,
              "#46039f"
             ],
             [
              0.2222222222222222,
              "#7201a8"
             ],
             [
              0.3333333333333333,
              "#9c179e"
             ],
             [
              0.4444444444444444,
              "#bd3786"
             ],
             [
              0.5555555555555556,
              "#d8576b"
             ],
             [
              0.6666666666666666,
              "#ed7953"
             ],
             [
              0.7777777777777778,
              "#fb9f3a"
             ],
             [
              0.8888888888888888,
              "#fdca26"
             ],
             [
              1,
              "#f0f921"
             ]
            ],
            "type": "contour"
           }
          ],
          "contourcarpet": [
           {
            "colorbar": {
             "outlinewidth": 0,
             "ticks": ""
            },
            "type": "contourcarpet"
           }
          ],
          "heatmap": [
           {
            "colorbar": {
             "outlinewidth": 0,
             "ticks": ""
            },
            "colorscale": [
             [
              0,
              "#0d0887"
             ],
             [
              0.1111111111111111,
              "#46039f"
             ],
             [
              0.2222222222222222,
              "#7201a8"
             ],
             [
              0.3333333333333333,
              "#9c179e"
             ],
             [
              0.4444444444444444,
              "#bd3786"
             ],
             [
              0.5555555555555556,
              "#d8576b"
             ],
             [
              0.6666666666666666,
              "#ed7953"
             ],
             [
              0.7777777777777778,
              "#fb9f3a"
             ],
             [
              0.8888888888888888,
              "#fdca26"
             ],
             [
              1,
              "#f0f921"
             ]
            ],
            "type": "heatmap"
           }
          ],
          "heatmapgl": [
           {
            "colorbar": {
             "outlinewidth": 0,
             "ticks": ""
            },
            "colorscale": [
             [
              0,
              "#0d0887"
             ],
             [
              0.1111111111111111,
              "#46039f"
             ],
             [
              0.2222222222222222,
              "#7201a8"
             ],
             [
              0.3333333333333333,
              "#9c179e"
             ],
             [
              0.4444444444444444,
              "#bd3786"
             ],
             [
              0.5555555555555556,
              "#d8576b"
             ],
             [
              0.6666666666666666,
              "#ed7953"
             ],
             [
              0.7777777777777778,
              "#fb9f3a"
             ],
             [
              0.8888888888888888,
              "#fdca26"
             ],
             [
              1,
              "#f0f921"
             ]
            ],
            "type": "heatmapgl"
           }
          ],
          "histogram": [
           {
            "marker": {
             "pattern": {
              "fillmode": "overlay",
              "size": 10,
              "solidity": 0.2
             }
            },
            "type": "histogram"
           }
          ],
          "histogram2d": [
           {
            "colorbar": {
             "outlinewidth": 0,
             "ticks": ""
            },
            "colorscale": [
             [
              0,
              "#0d0887"
             ],
             [
              0.1111111111111111,
              "#46039f"
             ],
             [
              0.2222222222222222,
              "#7201a8"
             ],
             [
              0.3333333333333333,
              "#9c179e"
             ],
             [
              0.4444444444444444,
              "#bd3786"
             ],
             [
              0.5555555555555556,
              "#d8576b"
             ],
             [
              0.6666666666666666,
              "#ed7953"
             ],
             [
              0.7777777777777778,
              "#fb9f3a"
             ],
             [
              0.8888888888888888,
              "#fdca26"
             ],
             [
              1,
              "#f0f921"
             ]
            ],
            "type": "histogram2d"
           }
          ],
          "histogram2dcontour": [
           {
            "colorbar": {
             "outlinewidth": 0,
             "ticks": ""
            },
            "colorscale": [
             [
              0,
              "#0d0887"
             ],
             [
              0.1111111111111111,
              "#46039f"
             ],
             [
              0.2222222222222222,
              "#7201a8"
             ],
             [
              0.3333333333333333,
              "#9c179e"
             ],
             [
              0.4444444444444444,
              "#bd3786"
             ],
             [
              0.5555555555555556,
              "#d8576b"
             ],
             [
              0.6666666666666666,
              "#ed7953"
             ],
             [
              0.7777777777777778,
              "#fb9f3a"
             ],
             [
              0.8888888888888888,
              "#fdca26"
             ],
             [
              1,
              "#f0f921"
             ]
            ],
            "type": "histogram2dcontour"
           }
          ],
          "mesh3d": [
           {
            "colorbar": {
             "outlinewidth": 0,
             "ticks": ""
            },
            "type": "mesh3d"
           }
          ],
          "parcoords": [
           {
            "line": {
             "colorbar": {
              "outlinewidth": 0,
              "ticks": ""
             }
            },
            "type": "parcoords"
           }
          ],
          "pie": [
           {
            "automargin": true,
            "type": "pie"
           }
          ],
          "scatter": [
           {
            "fillpattern": {
             "fillmode": "overlay",
             "size": 10,
             "solidity": 0.2
            },
            "type": "scatter"
           }
          ],
          "scatter3d": [
           {
            "line": {
             "colorbar": {
              "outlinewidth": 0,
              "ticks": ""
             }
            },
            "marker": {
             "colorbar": {
              "outlinewidth": 0,
              "ticks": ""
             }
            },
            "type": "scatter3d"
           }
          ],
          "scattercarpet": [
           {
            "marker": {
             "colorbar": {
              "outlinewidth": 0,
              "ticks": ""
             }
            },
            "type": "scattercarpet"
           }
          ],
          "scattergeo": [
           {
            "marker": {
             "colorbar": {
              "outlinewidth": 0,
              "ticks": ""
             }
            },
            "type": "scattergeo"
           }
          ],
          "scattergl": [
           {
            "marker": {
             "colorbar": {
              "outlinewidth": 0,
              "ticks": ""
             }
            },
            "type": "scattergl"
           }
          ],
          "scattermapbox": [
           {
            "marker": {
             "colorbar": {
              "outlinewidth": 0,
              "ticks": ""
             }
            },
            "type": "scattermapbox"
           }
          ],
          "scatterpolar": [
           {
            "marker": {
             "colorbar": {
              "outlinewidth": 0,
              "ticks": ""
             }
            },
            "type": "scatterpolar"
           }
          ],
          "scatterpolargl": [
           {
            "marker": {
             "colorbar": {
              "outlinewidth": 0,
              "ticks": ""
             }
            },
            "type": "scatterpolargl"
           }
          ],
          "scatterternary": [
           {
            "marker": {
             "colorbar": {
              "outlinewidth": 0,
              "ticks": ""
             }
            },
            "type": "scatterternary"
           }
          ],
          "surface": [
           {
            "colorbar": {
             "outlinewidth": 0,
             "ticks": ""
            },
            "colorscale": [
             [
              0,
              "#0d0887"
             ],
             [
              0.1111111111111111,
              "#46039f"
             ],
             [
              0.2222222222222222,
              "#7201a8"
             ],
             [
              0.3333333333333333,
              "#9c179e"
             ],
             [
              0.4444444444444444,
              "#bd3786"
             ],
             [
              0.5555555555555556,
              "#d8576b"
             ],
             [
              0.6666666666666666,
              "#ed7953"
             ],
             [
              0.7777777777777778,
              "#fb9f3a"
             ],
             [
              0.8888888888888888,
              "#fdca26"
             ],
             [
              1,
              "#f0f921"
             ]
            ],
            "type": "surface"
           }
          ],
          "table": [
           {
            "cells": {
             "fill": {
              "color": "#EBF0F8"
             },
             "line": {
              "color": "white"
             }
            },
            "header": {
             "fill": {
              "color": "#C8D4E3"
             },
             "line": {
              "color": "white"
             }
            },
            "type": "table"
           }
          ]
         },
         "layout": {
          "annotationdefaults": {
           "arrowcolor": "#2a3f5f",
           "arrowhead": 0,
           "arrowwidth": 1
          },
          "autotypenumbers": "strict",
          "coloraxis": {
           "colorbar": {
            "outlinewidth": 0,
            "ticks": ""
           }
          },
          "colorscale": {
           "diverging": [
            [
             0,
             "#8e0152"
            ],
            [
             0.1,
             "#c51b7d"
            ],
            [
             0.2,
             "#de77ae"
            ],
            [
             0.3,
             "#f1b6da"
            ],
            [
             0.4,
             "#fde0ef"
            ],
            [
             0.5,
             "#f7f7f7"
            ],
            [
             0.6,
             "#e6f5d0"
            ],
            [
             0.7,
             "#b8e186"
            ],
            [
             0.8,
             "#7fbc41"
            ],
            [
             0.9,
             "#4d9221"
            ],
            [
             1,
             "#276419"
            ]
           ],
           "sequential": [
            [
             0,
             "#0d0887"
            ],
            [
             0.1111111111111111,
             "#46039f"
            ],
            [
             0.2222222222222222,
             "#7201a8"
            ],
            [
             0.3333333333333333,
             "#9c179e"
            ],
            [
             0.4444444444444444,
             "#bd3786"
            ],
            [
             0.5555555555555556,
             "#d8576b"
            ],
            [
             0.6666666666666666,
             "#ed7953"
            ],
            [
             0.7777777777777778,
             "#fb9f3a"
            ],
            [
             0.8888888888888888,
             "#fdca26"
            ],
            [
             1,
             "#f0f921"
            ]
           ],
           "sequentialminus": [
            [
             0,
             "#0d0887"
            ],
            [
             0.1111111111111111,
             "#46039f"
            ],
            [
             0.2222222222222222,
             "#7201a8"
            ],
            [
             0.3333333333333333,
             "#9c179e"
            ],
            [
             0.4444444444444444,
             "#bd3786"
            ],
            [
             0.5555555555555556,
             "#d8576b"
            ],
            [
             0.6666666666666666,
             "#ed7953"
            ],
            [
             0.7777777777777778,
             "#fb9f3a"
            ],
            [
             0.8888888888888888,
             "#fdca26"
            ],
            [
             1,
             "#f0f921"
            ]
           ]
          },
          "colorway": [
           "#636efa",
           "#EF553B",
           "#00cc96",
           "#ab63fa",
           "#FFA15A",
           "#19d3f3",
           "#FF6692",
           "#B6E880",
           "#FF97FF",
           "#FECB52"
          ],
          "font": {
           "color": "#2a3f5f"
          },
          "geo": {
           "bgcolor": "white",
           "lakecolor": "white",
           "landcolor": "#E5ECF6",
           "showlakes": true,
           "showland": true,
           "subunitcolor": "white"
          },
          "hoverlabel": {
           "align": "left"
          },
          "hovermode": "closest",
          "mapbox": {
           "style": "light"
          },
          "paper_bgcolor": "white",
          "plot_bgcolor": "#E5ECF6",
          "polar": {
           "angularaxis": {
            "gridcolor": "white",
            "linecolor": "white",
            "ticks": ""
           },
           "bgcolor": "#E5ECF6",
           "radialaxis": {
            "gridcolor": "white",
            "linecolor": "white",
            "ticks": ""
           }
          },
          "scene": {
           "xaxis": {
            "backgroundcolor": "#E5ECF6",
            "gridcolor": "white",
            "gridwidth": 2,
            "linecolor": "white",
            "showbackground": true,
            "ticks": "",
            "zerolinecolor": "white"
           },
           "yaxis": {
            "backgroundcolor": "#E5ECF6",
            "gridcolor": "white",
            "gridwidth": 2,
            "linecolor": "white",
            "showbackground": true,
            "ticks": "",
            "zerolinecolor": "white"
           },
           "zaxis": {
            "backgroundcolor": "#E5ECF6",
            "gridcolor": "white",
            "gridwidth": 2,
            "linecolor": "white",
            "showbackground": true,
            "ticks": "",
            "zerolinecolor": "white"
           }
          },
          "shapedefaults": {
           "line": {
            "color": "#2a3f5f"
           }
          },
          "ternary": {
           "aaxis": {
            "gridcolor": "white",
            "linecolor": "white",
            "ticks": ""
           },
           "baxis": {
            "gridcolor": "white",
            "linecolor": "white",
            "ticks": ""
           },
           "bgcolor": "#E5ECF6",
           "caxis": {
            "gridcolor": "white",
            "linecolor": "white",
            "ticks": ""
           }
          },
          "title": {
           "x": 0.05
          },
          "xaxis": {
           "automargin": true,
           "gridcolor": "white",
           "linecolor": "white",
           "ticks": "",
           "title": {
            "standoff": 15
           },
           "zerolinecolor": "white",
           "zerolinewidth": 2
          },
          "yaxis": {
           "automargin": true,
           "gridcolor": "white",
           "linecolor": "white",
           "ticks": "",
           "title": {
            "standoff": 15
           },
           "zerolinecolor": "white",
           "zerolinewidth": 2
          }
         }
        },
        "width": 800,
        "xaxis": {
         "anchor": "y",
         "domain": [
          0,
          1
         ],
         "title": {
          "text": "Epoka"
         }
        },
        "yaxis": {
         "anchor": "x",
         "domain": [
          0,
          1
         ],
         "title": {
          "text": "Całkowity koszt"
         }
        }
       }
      }
     },
     "metadata": {},
     "output_type": "display_data"
    }
   ],
   "source": [
    "tloss = results['Total loss'].tolist()\n",
    "tloss_epoch = [sum(tloss[i:i+6])/6 for i in range(0,len(tloss),6)][:-1]\n",
    "epochs = range(0, int((len(results)-1)/6))\n",
    "\n",
    "plot_line(epochs, tloss_epoch, 'Epoka', 'Całkowity koszt')"
   ]
  },
  {
   "cell_type": "code",
   "execution_count": 3,
   "metadata": {},
   "outputs": [],
   "source": [
    "from speech_embedder_net import SpeechEmbedder\n",
    "from speech_model.utils import mfccs_and_spec\n",
    "import torch\n",
    "\n",
    "class SpekerVerifier:\n",
    "    \"\"\"Class for loading the model and computing speech embeddings\"\"\"\n",
    "    def __init__(\n",
    "            self,\n",
    "            model_path: str = 'speech_id_checkpoint/ckpt_epoch_180_batch_id_191.pth'\n",
    "            ) -> None:\n",
    "        self.model = SpeechEmbedder()\n",
    "        self.model.load_state_dict(torch.load(model_path))\n",
    "        self.model.eval()\n",
    "        pass\n",
    "\n",
    "    def compute_embedding(self, audio_input):\n",
    "        _, mel_db, _ = mfccs_and_spec(audio_input, wav_process = True)\n",
    "        mel_db = torch.Tensor(mel_db)\n",
    "        enrollment_batch = torch.reshape(mel_db, (1, mel_db.size(0), mel_db.size(1)))\n",
    "        embedding = self.model(torch.Tensor(enrollment_batch))\n",
    "        return embedding"
   ]
  },
  {
   "cell_type": "code",
   "execution_count": 4,
   "metadata": {},
   "outputs": [],
   "source": [
    "sample_file = 'split_data/train/id10'"
   ]
  }
 ],
 "metadata": {
  "kernelspec": {
   "display_name": "Python 3",
   "language": "python",
   "name": "python3"
  },
  "language_info": {
   "codemirror_mode": {
    "name": "ipython",
    "version": 3
   },
   "file_extension": ".py",
   "mimetype": "text/x-python",
   "name": "python",
   "nbconvert_exporter": "python",
   "pygments_lexer": "ipython3",
   "version": "3.11.6"
  },
  "orig_nbformat": 4
 },
 "nbformat": 4,
 "nbformat_minor": 2
}
